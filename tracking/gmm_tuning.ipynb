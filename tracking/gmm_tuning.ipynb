{
 "cells": [
  {
   "cell_type": "code",
   "execution_count": null,
   "metadata": {
    "collapsed": false
   },
   "outputs": [],
   "source": [
    "import pickle\n",
    "from skimage import io\n",
    "import copy\n",
    "import time\n",
    "\n",
    "import sys\n",
    "sys.path.append('/Users/jerrytang/.virtualenvs/cv/lib/python2.7/site-packages')\n",
    "\n",
    "import matplotlib.pyplot as plt\n",
    "%matplotlib inline\n",
    "\n",
    "import helpers\n",
    "import cluster\n",
    "import evaluation\n",
    "import registration"
   ]
  },
  {
   "cell_type": "code",
   "execution_count": null,
   "metadata": {
    "collapsed": false
   },
   "outputs": [],
   "source": [
    "import gmmreg"
   ]
  },
  {
   "cell_type": "markdown",
   "metadata": {},
   "source": [
    "## Parameters"
   ]
  },
  {
   "cell_type": "code",
   "execution_count": null,
   "metadata": {
    "collapsed": true
   },
   "outputs": [],
   "source": [
    "files = ['/Users/jerrytang/summer2k17/hydra/data/gt1.csv', '/Users/jerrytang/summer2k17/hydra/data/gt2.csv', '/Users/jerrytang/summer2k17/hydra/data/gt3.csv', '/Users/jerrytang/summer2k17/hydra/data/gt4.csv']\n",
    "video_path = '/Users/jerrytang/summer2k17/uw_hydra_stack/stk_0001_Substack (1-5000).tif'\n",
    "# res is 2 for 512 images, 1 for 1024\n",
    "res = 2 "
   ]
  },
  {
   "cell_type": "markdown",
   "metadata": {},
   "source": [
    "## Helper Functions"
   ]
  },
  {
   "cell_type": "code",
   "execution_count": null,
   "metadata": {
    "collapsed": true
   },
   "outputs": [],
   "source": [
    "# load ground truth tracks\n",
    "def ground_truth_tracks(path):\n",
    "    df = pd.read_csv(path)\n",
    "    neuron_count = int(np.nanmax(np.asarray(df[df.columns[0]]) + 1))\n",
    "    res = [{} for _ in xrange(neuron_count)]\n",
    "    for i in range(neuron_count):\n",
    "        mapping = df[df[df.columns[0]] == i]\n",
    "        for row in mapping.itertuples():\n",
    "            res[i][row[2] - 1] = (row[3]/2.0, row[4]/2.0)\n",
    "    return res"
   ]
  },
  {
   "cell_type": "code",
   "execution_count": null,
   "metadata": {
    "collapsed": false
   },
   "outputs": [],
   "source": [
    "# map detected data to ground truth data space by euclidean distance\n",
    "def consistent_coords(detected_data, ground_truth_data, time):\n",
    "    consistent = []\n",
    "    count = 0\n",
    "    for row in detected_data[0]:\n",
    "        coords = (row[0], row[1])\n",
    "        dists = list(map(lambda x: helpers.eucl(x, coords), ground_truth_data))\n",
    "        match_index = dists.index(min(dists))\n",
    "        match = ground_truth_data[match_index]\n",
    "        if min(dists) < 5:\n",
    "            cp = copy.copy(row)\n",
    "            cp[0] = match[0]\n",
    "            cp[1] = match[1]\n",
    "            consistent.append(cp)\n",
    "    return consistent\n",
    "\n",
    "# get ground truth neurons for a given time frame\n",
    "def ground_truth_time(ground_truth, time):\n",
    "    time_list = []\n",
    "    for neuron in ground_truth:\n",
    "        time_list.append(neuron[time])\n",
    "    return time_list"
   ]
  },
  {
   "cell_type": "code",
   "execution_count": null,
   "metadata": {
    "collapsed": false
   },
   "outputs": [],
   "source": [
    "# convert ground truth data at a given time frame into map from current time to next time\n",
    "def ground_truth_map(ground_truth, time):\n",
    "    m = {}\n",
    "    for neuron in ground_truth:\n",
    "        m[neuron[time]] = neuron[time + 1]\n",
    "    return m"
   ]
  },
  {
   "cell_type": "code",
   "execution_count": null,
   "metadata": {
    "collapsed": true
   },
   "outputs": [],
   "source": [
    "# given a point set registration from t to t + 1 return what percentage was mapped correctly \n",
    "def error(reg_map, ground_truth_map):\n",
    "    count = len(reg_map.keys())\n",
    "    right = 0.0\n",
    "    for x in reg_map.keys():\n",
    "        if reg_map[x] == ground_truth_map[x]:\n",
    "            right += 1\n",
    "    return right, count"
   ]
  },
  {
   "cell_type": "code",
   "execution_count": null,
   "metadata": {
    "collapsed": true
   },
   "outputs": [],
   "source": [
    "# get fiducials of a frame with a max intensity cutoff\n",
    "# eventually planning to incorporate size into fiducial calculation as well\n",
    "# but size is detected as accurately ie the size is a better representation of the\n",
    "# detected spot size than it is of the actual neuron size, an issue not presented by\n",
    "# max intensity detections\n",
    "def get_fiducials(spots, cutoff):\n",
    "    fid = []\n",
    "    for spot in spots:\n",
    "        if spot[3] > cutoff: \n",
    "            fid.append(spot)\n",
    "    return np.asarray(fid)"
   ]
  },
  {
   "cell_type": "code",
   "execution_count": null,
   "metadata": {
    "collapsed": true
   },
   "outputs": [],
   "source": [
    "# for sorting by max intensity\n",
    "def getKey(item):\n",
    "    return item[3]\n",
    "\n",
    "# get top x percent of fiducials by intensity\n",
    "def get_fiducials_percentage(spots, percentage):\n",
    "    total = int(percentage * len(spots))\n",
    "    fid = sorted(spots, key=getKey, reverse=True)[0:total]\n",
    "    return np.asarray(fid)"
   ]
  },
  {
   "cell_type": "code",
   "execution_count": null,
   "metadata": {
    "collapsed": false
   },
   "outputs": [],
   "source": [
    "# load files adapted to current schema of ground truth data\n",
    "def load_files(paths):\n",
    "    vid = []\n",
    "    for path in paths:\n",
    "        vid.extend(load_file(path))\n",
    "    print 'video loaded'\n",
    "    return vid\n",
    "\n",
    "def load_file(path):\n",
    "    df = pd.read_csv(path)\n",
    "    vid = []\n",
    "    frame_count = int(np.nanmax(np.asarray(df['t']) + 1))\n",
    "    for i in range(frame_count):\n",
    "        frame = df[df.t == i]\n",
    "        coords = frame[['x', 'y', 'Surface', 'max intensity']]\n",
    "        tuples = [tuple(x) for x in coords.values]\n",
    "        if len(tuples) != 0:\n",
    "            vid.append(np.asarray(tuples))\n",
    "    print 'loaded %d frames' % len(vid)\n",
    "    return vid"
   ]
  },
  {
   "cell_type": "markdown",
   "metadata": {},
   "source": [
    "## Initialization"
   ]
  },
  {
   "cell_type": "code",
   "execution_count": null,
   "metadata": {
    "collapsed": false
   },
   "outputs": [],
   "source": [
    "import pandas as pd\n",
    "import numpy as np\n",
    "full = load_files(files)"
   ]
  },
  {
   "cell_type": "code",
   "execution_count": null,
   "metadata": {
    "collapsed": false
   },
   "outputs": [],
   "source": [
    "vid = io.imread(video_path)[0:199,]"
   ]
  },
  {
   "cell_type": "code",
   "execution_count": null,
   "metadata": {
    "collapsed": false
   },
   "outputs": [],
   "source": [
    "ground_truth = ground_truth_tracks(\"/Users/jerrytang/summer2k17/hydra/data/ground_truth.csv\")"
   ]
  },
  {
   "cell_type": "markdown",
   "metadata": {
    "collapsed": true
   },
   "source": [
    "## GMM Parameters Grid Search"
   ]
  },
  {
   "cell_type": "code",
   "execution_count": null,
   "metadata": {
    "collapsed": true
   },
   "outputs": [],
   "source": [
    "def gmm_psr(frame, reference, param):\n",
    "    m = frame[:, [0, 1]]\n",
    "    s = reference[:, [0, 1]]\n",
    "    m_info = [frame[:, 2], frame[:, 3]]\n",
    "    s_info = [reference[:, 2], reference[:, 3]]\n",
    "    model, scene, after = gmmreg.test('/Users/jerrytang/summer2k17/hydra/data/hydra_config.ini', m, s, m_info, s_info, False, param)\n",
    "    return model, scene, after\n",
    "\n",
    "def evaluate_percentage(full, ground_truth, param, percentage): \n",
    "    test_frames = [0, 60, 120, 180]\n",
    "    total_right = 0.0\n",
    "    total_count = 0.0\n",
    "    for f in test_frames:\n",
    "        now_all = consistent_coords(full, ground_truth_time(ground_truth, f), f)\n",
    "        next_all = consistent_coords(full, ground_truth_time(ground_truth, f + 1), f + 1)\n",
    "        now_fid = get_fiducials_percentage(now_all, percentage)\n",
    "        next_fid = get_fiducials_percentage(next_all, percentage)\n",
    "\n",
    "        m, s, a = gmm_psr(now_fid, next_fid, [param])\n",
    "        m = now_fid[:, [0, 1]]\n",
    "        s = next_fid[:, [0, 1]]\n",
    "\n",
    "        mapping = {}\n",
    "        for i in range(len(m)):\n",
    "            dists = list(map(lambda x: helpers.eucl(x, a[i]), s))\n",
    "            match_index = dists.index(min(dists))\n",
    "            match = s[match_index]\n",
    "            mapping[tuple(m[i])] = tuple(match)\n",
    "\n",
    "        g = ground_truth_map(ground_truth, f)\n",
    "\n",
    "        right, count = error(mapping, g)\n",
    "        total_right += right\n",
    "        total_count += count\n",
    "    return total_right / total_count\n",
    "\n",
    "def distance_registration(full, ground_truth, percentage):\n",
    "    test_frames = [0, 60, 120, 180]\n",
    "    total_right = 0.0\n",
    "    total_count = 0.0\n",
    "    for f in test_frames:\n",
    "        now_all = consistent_coords(full, ground_truth_time(ground_truth, f), f)\n",
    "        next_all = consistent_coords(full, ground_truth_time(ground_truth, f + 1), f + 1)\n",
    "        now_fid = get_fiducials_percentage(now_all, percentage)\n",
    "        next_fid = get_fiducials_percentage(next_all, percentage)\n",
    "\n",
    "        m = now_fid[:, [0, 1]]\n",
    "        s = next_fid[:, [0, 1]]\n",
    "\n",
    "        mapping = {}\n",
    "        for i in range(len(m)):\n",
    "            dists = list(map(lambda x: helpers.eucl(x, m[i]), s))\n",
    "            match_index = dists.index(min(dists))\n",
    "            match = s[match_index]\n",
    "            mapping[tuple(m[i])] = tuple(match)\n",
    "\n",
    "        g = ground_truth_map(ground_truth, f)\n",
    "\n",
    "        right, count = error(mapping, g)\n",
    "        total_right += right\n",
    "        total_count += count\n",
    "    return total_right / total_count"
   ]
  },
  {
   "cell_type": "code",
   "execution_count": null,
   "metadata": {
    "collapsed": true
   },
   "outputs": [],
   "source": [
    "percents = [0.1, 0.2, 0.3, 0.4, 0.5, 0.6, 0.7, 0.8, 0.9, 1.0]\n",
    "params = [0.25, 0.5, 0.75, 1.0, 1.25, 1.5, 1.75, 2.0]"
   ]
  },
  {
   "cell_type": "code",
   "execution_count": null,
   "metadata": {
    "collapsed": false
   },
   "outputs": [],
   "source": [
    "res = np.zeros([len(percents), len(params)])\n",
    "for i in range(len(percents)):\n",
    "    for j in range(len(params)):\n",
    "        res[i][j] = evaluate_percentage(full, ground_truth, params[j], percents[i])"
   ]
  },
  {
   "cell_type": "code",
   "execution_count": null,
   "metadata": {
    "collapsed": false
   },
   "outputs": [],
   "source": [
    "# plot 3d graph of accuracy as a function of percentage and param\n",
    "fig = plt.figure()\n",
    "ax = fig.add_subplot(111, projection='3d')\n",
    "x = percents\n",
    "y = params\n",
    "X, Y = np.meshgrid(x, y)\n",
    "zs = res\n",
    "Z = zs.reshape(X.shape)\n",
    "\n",
    "ax.plot_surface(X, Y, Z)\n",
    "\n",
    "ax.set_xlabel('Fiducials Percentage')\n",
    "ax.set_ylabel('Param')\n",
    "ax.set_zlabel('Registration Accuracy')\n",
    "\n",
    "plt.show()"
   ]
  },
  {
   "cell_type": "code",
   "execution_count": null,
   "metadata": {
    "collapsed": false
   },
   "outputs": [],
   "source": [
    "# plot graph of gmm accuracy (from optimal param given each percentage) as a function of percentage \n",
    "results_gmm = []\n",
    "for i in range(len(percents)):\n",
    "    results_gmm.append(np.max(res[i, :]))\n",
    "plt.scatter(percents, results_gmm)\n",
    "plt.xlabel('percentage of fiducials chosen')\n",
    "plt.ylabel('accuracy')"
   ]
  },
  {
   "cell_type": "code",
   "execution_count": null,
   "metadata": {
    "collapsed": false
   },
   "outputs": [],
   "source": [
    "# plot graph of distance accuracy as a function of percentage \n",
    "results_distance = []\n",
    "for i in range(len(percents)):\n",
    "    results_distance.append(distance_registration(full, ground_truth, percents[i]))\n",
    "plt.scatter(percents, results_distance)\n",
    "plt.xlabel('percentage of fiducials chosen')\n",
    "plt.ylabel('accuracy')"
   ]
  },
  {
   "cell_type": "markdown",
   "metadata": {
    "collapsed": true
   },
   "source": [
    "## Time Evaluation"
   ]
  },
  {
   "cell_type": "code",
   "execution_count": null,
   "metadata": {
    "collapsed": true
   },
   "outputs": [],
   "source": [
    "def evaluate_timing(full, ground_truth, percentage): \n",
    "    test_frames = [0, 60, 120, 180]\n",
    "    total_time = 0.0\n",
    "    for f in test_frames:\n",
    "        now_all = consistent_coords(full, ground_truth_time(ground_truth, f), f)\n",
    "        next_all = consistent_coords(full, ground_truth_time(ground_truth, f + 1), f + 1)\n",
    "        now_fid = get_fiducials_percentage(now_all, percentage)\n",
    "        next_fid = get_fiducials_percentage(next_all, percentage)\n",
    "\n",
    "        start_time = time.time()\n",
    "        m, s, a = gmm_psr(now_fid, next_fid, [2.0])\n",
    "        total_time += time.time() - start_time\n",
    "    return total_time / len(test_frames)"
   ]
  },
  {
   "cell_type": "code",
   "execution_count": null,
   "metadata": {
    "collapsed": false
   },
   "outputs": [],
   "source": [
    "percents_timing = [0.05, 0.1, 0.15, 0.2, 0.25, 0.3, 0.35, 0.4, 0.45, 0.5, 0.55, 0.6, 0.65, 0.7, 0.75, 0.8, 0.85, 0.9, 0.95]\n",
    "results_timing = []\n",
    "for i in range(len(percents_timing)):\n",
    "    results_timing.append(evaluate_timing(full, ground_truth, percents_timing[i]))"
   ]
  },
  {
   "cell_type": "code",
   "execution_count": null,
   "metadata": {
    "collapsed": false
   },
   "outputs": [],
   "source": [
    "plt.scatter(percents_timing, results_timing)\n",
    "plt.xlabel('percentage of fiducials chosen')\n",
    "plt.ylabel('seconds')"
   ]
  }
 ],
 "metadata": {
  "kernelspec": {
   "display_name": "Python 2",
   "language": "python",
   "name": "python2"
  },
  "language_info": {
   "codemirror_mode": {
    "name": "ipython",
    "version": 2
   },
   "file_extension": ".py",
   "mimetype": "text/x-python",
   "name": "python",
   "nbconvert_exporter": "python",
   "pygments_lexer": "ipython2",
   "version": "2.7.8"
  }
 },
 "nbformat": 4,
 "nbformat_minor": 1
}
