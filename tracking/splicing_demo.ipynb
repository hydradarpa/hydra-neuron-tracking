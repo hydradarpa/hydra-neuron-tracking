{
 "cells": [
  {
   "cell_type": "code",
   "execution_count": null,
   "metadata": {
    "collapsed": false
   },
   "outputs": [],
   "source": [
    "from skimage import io\n",
    "import pickle\n",
    "import sys\n",
    "import numpy as np\n",
    "import copy\n",
    "sys.path.append('/Users/jerrytang/.virtualenvs/cv/lib/python2.7/site-packages')\n",
    "\n",
    "import helpers\n",
    "import cluster\n",
    "import evaluation\n",
    "import registration\n",
    "import processing\n",
    "import correction\n",
    "import splicing"
   ]
  },
  {
   "cell_type": "markdown",
   "metadata": {},
   "source": [
    "## Initialization"
   ]
  },
  {
   "cell_type": "markdown",
   "metadata": {},
   "source": [
    "#### Design Parameters"
   ]
  },
  {
   "cell_type": "code",
   "execution_count": null,
   "metadata": {
    "collapsed": true
   },
   "outputs": [],
   "source": [
    "# splicing\n",
    "segment_length = 50\n",
    "overlap_length = 10\n",
    "\n",
    "# clustering\n",
    "cluster_cutoff_distance = 0.7\n",
    "cluster_accept_size = 0.0005\n",
    "\n",
    "# correction\n",
    "max_interpolation_length = 20"
   ]
  },
  {
   "cell_type": "markdown",
   "metadata": {},
   "source": [
    "#### Input Paths"
   ]
  },
  {
   "cell_type": "code",
   "execution_count": null,
   "metadata": {
    "collapsed": true
   },
   "outputs": [],
   "source": [
    "# detections file\n",
    "files = ['../files/corrected_100.csv']\n",
    "# motion correction reverse map (output of ICY motion correction)\n",
    "motion_correction_map_path = '../files/map_100.csv'\n",
    "# load video for tracking on video\n",
    "video_path = '/Users/jerrytang/hydra_data/stk_0001_Substack (1-5000).tif'\n",
    "# load existing assignments\n",
    "# assignments_read_path = '/Users/jerrytang/hydra_data/motion_assignments.csv'"
   ]
  },
  {
   "cell_type": "markdown",
   "metadata": {},
   "source": [
    "#### Output Paths"
   ]
  },
  {
   "cell_type": "code",
   "execution_count": null,
   "metadata": {
    "collapsed": true
   },
   "outputs": [],
   "source": [
    "# res is 2 for 512 images, 1 for 1024\n",
    "res = 2 \n",
    "video_save_folder = '/Users/jerrytang/summer2k17/hydra/temp_video'\n",
    "assignments_save_path = '/Users/jerrytang/summer2k17/hydra/corrected_assignments.csv'"
   ]
  },
  {
   "cell_type": "markdown",
   "metadata": {},
   "source": [
    "## Tracking"
   ]
  },
  {
   "cell_type": "code",
   "execution_count": null,
   "metadata": {
    "collapsed": false
   },
   "outputs": [],
   "source": [
    "import pandas as pd\n",
    "import numpy as np\n",
    "full = helpers.load_files(files)[0:100]"
   ]
  },
  {
   "cell_type": "code",
   "execution_count": null,
   "metadata": {
    "collapsed": false
   },
   "outputs": [],
   "source": [
    "vid = io.imread(video_path)[0:100]"
   ]
  },
  {
   "cell_type": "code",
   "execution_count": null,
   "metadata": {
    "collapsed": false
   },
   "outputs": [],
   "source": [
    "if motion_correction_map_path != None:\n",
    "        correction_map = processing.load_correction_map(motion_correction_map_path)\n",
    "corrected_full = processing.reverse_full_correction(full, correction_map)\n",
    "for i in range(len(corrected_full)):\n",
    "    corrected_full[i] = np.asarray(corrected_full[i])"
   ]
  },
  {
   "cell_type": "code",
   "execution_count": null,
   "metadata": {
    "collapsed": false
   },
   "outputs": [],
   "source": [
    "# run stitching pipeline\n",
    "\n",
    "all_tracks = []\n",
    "\n",
    "segment_length = 20\n",
    "overlap_length = 10\n",
    "    \n",
    "total_length = 0\n",
    "vid_end = len(full)\n",
    "while(total_length < vid_end):\n",
    "    if total_length == 0:\n",
    "        start = 0\n",
    "        end = segment_length\n",
    "    else: \n",
    "        start = total_length - overlap_length\n",
    "        end = min(vid_end, total_length + segment_length - overlap_length)\n",
    "    new_tracks = splicing.get_tracks_soft(start, end, overlap_length, full, cluster_cutoff_distance, cluster_accept_size, max_interpolation_length, correction_map, corrected_full)\n",
    "    if total_length == 0:\n",
    "        all_tracks = new_tracks\n",
    "        total_length += segment_length\n",
    "    else: \n",
    "        splicing.splice(all_tracks, new_tracks, total_length, segment_length, overlap_length)\n",
    "        total_length += segment_length - overlap_length"
   ]
  },
  {
   "cell_type": "code",
   "execution_count": null,
   "metadata": {
    "collapsed": false
   },
   "outputs": [],
   "source": [
    "# get distribution of path lengths\n",
    "import matplotlib.pyplot as plt\n",
    "% matplotlib inline\n",
    "plt.hist(list(map(lambda x : len(x), all_tracks)))"
   ]
  },
  {
   "cell_type": "code",
   "execution_count": null,
   "metadata": {
    "collapsed": false
   },
   "outputs": [],
   "source": [
    "assignments_save_path = '/Users/jerrytang/hydra_data/final_hard_stitched.csv'\n",
    "helpers.write_neuron_assignments(all_tracks, assignments_save_path, 1, False)"
   ]
  },
  {
   "cell_type": "code",
   "execution_count": null,
   "metadata": {
    "collapsed": false
   },
   "outputs": [],
   "source": [
    "# check how many neurons are assigned at each point in time\n",
    "assigned = np.zeros(100)\n",
    "for neuron in all_tracks:\n",
    "    for i in neuron.keys():\n",
    "        assigned[i] += 1\n",
    "        \n",
    "import matplotlib.pyplot as plt\n",
    "% matplotlib inline\n",
    "plt.scatter(range(100), assigned)"
   ]
  },
  {
   "cell_type": "code",
   "execution_count": null,
   "metadata": {
    "collapsed": true
   },
   "outputs": [],
   "source": []
  }
 ],
 "metadata": {
  "kernelspec": {
   "display_name": "Python 2",
   "language": "python",
   "name": "python2"
  },
  "language_info": {
   "codemirror_mode": {
    "name": "ipython",
    "version": 2
   },
   "file_extension": ".py",
   "mimetype": "text/x-python",
   "name": "python",
   "nbconvert_exporter": "python",
   "pygments_lexer": "ipython2",
   "version": "2.7.8"
  }
 },
 "nbformat": 4,
 "nbformat_minor": 1
}
